{
 "cells": [
  {
   "cell_type": "code",
   "execution_count": 10,
   "metadata": {
    "collapsed": true
   },
   "outputs": [],
   "source": [
    "import sklearn.datasets\n",
    "import itertools\n",
    "import numpy as np\n",
    "import pdb\n",
    "import matplotlib.pyplot as plt\n",
    "import matplotlib.patches as mpatches\n",
    "\n",
    "from copy import deepcopy\n",
    "from sklearn.utils import shuffle\n",
    "from random import randint\n",
    "%matplotlib inline\n",
    "\n",
    "NMAX = 999999999"
   ]
  },
  {
   "cell_type": "code",
   "execution_count": 11,
   "metadata": {
    "collapsed": true
   },
   "outputs": [],
   "source": [
    "\n",
    "def get_data():\n",
    "    dataset = sklearn.datasets.load_diabetes()\n",
    "    _dataset_X = dataset['data']\n",
    "    _dataset_y = dataset['target']\n",
    "    X = np.array(_dataset_X)\n",
    "    y = np.array(_dataset_y)\n",
    "    X = np.insert(X, 0, 1, axis=1)\n",
    "    return [X, y]\n",
    "\n",
    "def split_train_test(X, y):\n",
    "    datasize = X.shape[0]\n",
    "    X, y= shuffle(X, y, random_state = randint(0, 100))\n",
    "    train_X = X[:int(datasize*80/100)]\n",
    "    train_y = y[:int(datasize*80/100)]\n",
    "    test_X = X[int(datasize*80/100):]\n",
    "    test_y = y[int(datasize*80/100):]\n",
    "    return [train_X, train_y, test_X, test_y]\n"
   ]
  },
  {
   "cell_type": "code",
   "execution_count": 12,
   "metadata": {
    "collapsed": true
   },
   "outputs": [],
   "source": [
    "\n",
    "def get_beta (X, y, alpha):\n",
    "    u = np.identity(X.shape[1])*alpha\n",
    "    beta = np.dot(np.dot(np.linalg.inv(np.add(np.dot(X.T,X),u)), X.T), y)\n",
    "    return beta\n",
    "    \n",
    "def get_rss (X, y, beta):\n",
    "    loss = np.dot((np.dot(X,beta)-y).T,np.dot(X,beta)-y)\n",
    "    return loss"
   ]
  },
  {
   "cell_type": "code",
   "execution_count": 13,
   "metadata": {
    "collapsed": true
   },
   "outputs": [],
   "source": [
    "def get_subset_X (X, subset):\n",
    "    new_X = np.array([[1 for k in range(0,X.shape[0])]]).T\n",
    "    for i in subset[1:]:\n",
    "        f = []\n",
    "        if isinstance(i, list):\n",
    "            f = np.array([[X[k][i[0]]*X[k][i[1]] for k in range(0,X.shape[0])]]).T\n",
    "        else:\n",
    "            f = np.array([[X[k][i] for k in range(0,X.shape[0])]]).T\n",
    "        new_X = np.concatenate((new_X,f),axis=1)\n",
    "    return new_X"
   ]
  },
  {
   "cell_type": "code",
   "execution_count": 14,
   "metadata": {
    "collapsed": true
   },
   "outputs": [],
   "source": [
    "\n",
    "def greedy_subset (X, y, test_X, test_y, alpha):\n",
    "    no_features = X.shape[1]\n",
    "    subset = [0]\n",
    "#     p1 = []\n",
    "#     p2 = []\n",
    "\n",
    "    optimal_mse = NMAX\n",
    "    optimal_beta = []\n",
    "    optimal_subset = []\n",
    "    optimal_mse_test = NMAX\n",
    "    \n",
    "    for i in range (1, no_features):\n",
    "        best_rss = NMAX\n",
    "        best_subset = []\n",
    "        best_beta = []\n",
    "\n",
    "        for x in range (0,no_features-3):\n",
    "                if x not in subset:\n",
    "                    # print (e)\n",
    "                    new_subset = subset+[x]\n",
    "                    new_X = get_subset_X(X,new_subset)\n",
    "\n",
    "                    new_beta = get_beta(new_X, y, alpha)\n",
    "                    new_rss = get_rss(new_X, y, new_beta)\n",
    "\n",
    "                    if best_rss > new_rss:\n",
    "                        best_rss = new_rss\n",
    "                        best_beta = new_beta\n",
    "                        best_subset = new_subset\n",
    "\n",
    "        for xi in range (1,no_features):\n",
    "            for yi in range (xi+1,no_features):\n",
    "                if [xi,yi] not in subset:\n",
    "                    # print ([xi,yi])\n",
    "                    new_subset = subset+[[xi,yi]]\n",
    "                    new_X = get_subset_X(X,new_subset)\n",
    "\n",
    "                    new_beta = get_beta(new_X, y, alpha)\n",
    "                    new_rss = get_rss(new_X, y, new_beta)\n",
    "\n",
    "                    if best_rss > new_rss:\n",
    "                        best_rss = new_rss\n",
    "                        best_beta = new_beta\n",
    "                        best_subset = new_subset\n",
    "            \n",
    "            best_mse = best_rss/X.shape[0]\n",
    "            \n",
    "            if (optimal_mse*80/100) > best_mse: # if 20% improvement\n",
    "                optimal_mse = best_mse\n",
    "                optimal_beta = best_beta\n",
    "                optimal_subset = best_subset\n",
    "                optimal_mse_test = get_rss(get_subset_X(test_X,optimal_subset),test_y,optimal_beta)/test_X.shape[0]\n",
    "                \n",
    "        subset = best_subset\n",
    "\n",
    "#         p1.append(best_rss/X.shape[0])\n",
    "#         p2.append(get_rss(get_subset_X(test_X,best_subset),test_y,best_beta)/test_X.shape[0])\n",
    "\n",
    "    return [optimal_mse, optimal_mse_test, optimal_beta]\n"
   ]
  },
  {
   "cell_type": "code",
   "execution_count": 15,
   "metadata": {
    "collapsed": true
   },
   "outputs": [],
   "source": [
    "\n",
    "def run_alpha (X, y, test_X, test_y):\n",
    "    no_runs = 4\n",
    "    p0 = []\n",
    "    p1 = []\n",
    "    p2 = []\n",
    "    p3 = []\n",
    "    \n",
    "    for _alpha in range (0,no_runs):\n",
    "        alpha = _alpha/10\n",
    "        _p1, _p2, beta = greedy_subset(X, y, test_X, test_y, alpha)\n",
    "        p0.append(alpha)\n",
    "        p1.append(_p1)\n",
    "        p2.append(_p2)\n",
    "        p3.append(beta)\n",
    "    return [p0, p1, p2, p3]"
   ]
  },
  {
   "cell_type": "code",
   "execution_count": 16,
   "metadata": {
    "collapsed": true
   },
   "outputs": [],
   "source": [
    "def run():\n",
    "    dataset_X, dataset_y = get_data()\n",
    "    p1_avg = np.array([])\n",
    "    p2_avg = np.array([])\n",
    "    \n",
    "    train_X, train_y, test_X, test_y = split_train_test(dataset_X,dataset_y)\n",
    "    p0, p1, p2, p3 = run_alpha(train_X, train_y, test_X, test_y)\n",
    "    \n",
    "    plt.title(\"Alpha Subset\")\n",
    "    plt.xlabel(\"alphas\")\n",
    "    plt.ylabel(\"RSS\")\n",
    "    plt.legend(handles=[mpatches.Patch(color='red', label='train'), mpatches.Patch(color='blue', label='test')])\n",
    "    plt.plot(p0, p1, marker='o', color='red', linestyle='-')\n",
    "    plt.plot(p0, p2, marker='o', color='blue', linestyle='-')\n",
    "    plt.show()\n",
    "\n",
    "    plt.title(\"Betas\")\n",
    "    plt.xlabel(\"alphas\")\n",
    "    plt.ylabel(\"betas\")\n",
    "    plt.legend(handles=[mpatches.Patch(color='red', label='train'), mpatches.Patch(color='blue', label='test')])\n",
    "    for i in range(0,len(p0)):\n",
    "        plt.plot([p0[i] for _ in range(0,len(p3[i]))], p3[i], marker='o', color='red', linestyle='-')\n",
    "    plt.show()\n"
   ]
  },
  {
   "cell_type": "code",
   "execution_count": 20,
   "metadata": {
    "scrolled": false
   },
   "outputs": [
    {
     "data": {
      "image/png": "[encoded data removed]",
      "text/plain": [
       "<matplotlib.figure.Figure at 0x290e8e500b8>"
      ]
     },
     "metadata": {},
     "output_type": "display_data"
    },
    {
     "data": {
      "image/png": "[encoded data removed]",
      "text/plain": [
       "<matplotlib.figure.Figure at 0x290e8d50f98>"
      ]
     },
     "metadata": {},
     "output_type": "display_data"
    }
   ],
   "source": [
    "run()\n"
   ]
  },
  {
   "cell_type": "code",
   "execution_count": null,
   "metadata": {
    "collapsed": true
   },
   "outputs": [],
   "source": []
  }
 ],
 "metadata": {
  "kernelspec": {
   "display_name": "Python 3",
   "language": "python",
   "name": "python3"
  },
  "language_info": {
   "codemirror_mode": {
    "name": "ipython",
    "version": 3
   },
   "file_extension": ".py",
   "mimetype": "text/x-python",
   "name": "python",
   "nbconvert_exporter": "python",
   "pygments_lexer": "ipython3",
   "version": "3.5.4rc1"
  }
 },
 "nbformat": 4,
 "nbformat_minor": 2
}
