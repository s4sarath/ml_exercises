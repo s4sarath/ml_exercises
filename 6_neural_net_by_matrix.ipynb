{
 "cells": [
  {
   "cell_type": "code",
   "execution_count": 67,
   "metadata": {},
   "outputs": [
    {
     "name": "stdout",
     "output_type": "stream",
     "text": [
      "datasets: (442, 10) (442,)\n"
     ]
    }
   ],
   "source": [
    "import matplotlib.pyplot as plt \n",
    "import numpy as np \n",
    "import sklearn \n",
    "import math\n",
    "import sklearn.datasets \n",
    "from sklearn.utils import shuffle\n",
    "from random import randint\n",
    "from numpy import random\n",
    "import matplotlib.patches as mpatches\n",
    "import matplotlib \n",
    "%matplotlib inline\n",
    "\n",
    "batch_size = 40 # !!!\n",
    "\n",
    "def split_train_test(X, y):\n",
    "    datasize = X.shape[0]\n",
    "    X, y = shuffle(X, y, random_state = randint(0, 100))\n",
    "    train_X = X[batch_size:]\n",
    "    train_y = y[batch_size:]\n",
    "    test_X = X[:batch_size]\n",
    "    test_y = y[:batch_size]\n",
    "    return [train_X, train_y, test_X, test_y]\n",
    "\n",
    "def normalize(X):\n",
    "    m = np.amin(X, axis=0)\n",
    "    M = np.amax(X, axis=0)\n",
    "    return np.array([(x-m)/(M-m) for x in X])\n",
    "\n",
    "dataset = sklearn.datasets.load_diabetes()\n",
    "dataset_X = np.array(dataset['data'])\n",
    "dataset_y = np.array(dataset['target'])\n",
    "train_X, train_y, test_X, test_y = split_train_test( normalize(dataset_X), normalize(dataset_y))\n",
    "\n",
    "print(\"datasets:\",dataset_X.shape, dataset_y.shape)\n"
   ]
  },
  {
   "cell_type": "code",
   "execution_count": 81,
   "metadata": {
    "collapsed": true
   },
   "outputs": [],
   "source": [
    "\n",
    "class NeuNet():\n",
    "    \n",
    "    def __init__(self, nn_inputs, nn_layers, nn_hidden, nn_outputs, learning_rate):\n",
    "        self.nn_inputs = nn_inputs\n",
    "        self.nn_layers = nn_layers\n",
    "        self.neurons_per_layer = [nn_inputs] + nn_hidden + [nn_outputs]\n",
    "        self.nn_outputs = nn_outputs\n",
    "        self.eta = learning_rate\n",
    "        \n",
    "        self.W=[]\n",
    "        self.b=[]\n",
    "        self.a=[]\n",
    "        self.h=[]\n",
    "        self.delta=[]   \n",
    "        self.yhat=[]\n",
    "        \n",
    "        for i in range(self.nn_layers+1):\n",
    "            self.W.append(np.random.normal(0,1,(self.neurons_per_layer[i+1], self.neurons_per_layer[i])))\n",
    "            self.b.append(np.random.normal(0,1,(self.neurons_per_layer[i+1], batch_size)))\n",
    "            self.a.append(np.zeros((self.neurons_per_layer[i], batch_size)))\n",
    "            self.h.append(np.zeros((self.neurons_per_layer[i], batch_size)))\n",
    "            self.delta.append(np.zeros((self.neurons_per_layer[i], batch_size)))\n",
    "            \n",
    "        self.a.append(np.zeros((self.neurons_per_layer[nn_layers+1], batch_size)))\n",
    "        self.h.append(np.zeros((self.neurons_per_layer[nn_layers+1], batch_size)))\n",
    "        self.delta.append(np.zeros((self.neurons_per_layer[nn_layers+1], batch_size)))\n",
    "                  \n",
    "        print(\"network:\",self.neurons_per_layer)\n",
    "        print(\"W\", [x.shape for x in self.W])\n",
    "        print(\"b\", [x.shape for x in self.b])\n",
    "        print(\"a\", [x.shape for x in self.a])\n",
    "        print(\"h\", [x.shape for x in self.h])\n",
    "        print(\"delta\", [x.shape for x in self.delta])\n",
    "    \n",
    "\n",
    "    def sigmoid(self, x): return 1/(1 + np.exp(-x))\n",
    "    def sigmoid_der(self, x): return np.exp(-x)/(1 + np.exp(-x))**2\n",
    "    \n",
    "    def get_error(self, y):\n",
    "        return sum( (y - self.h[-1]).T **2) # /len(y) ~ batch_size\n",
    "    \n",
    "    \n",
    "    def forward_prop(self, X):\n",
    "        \n",
    "        self.a[0] = X.T\n",
    "        self.h[0] = X.T\n",
    "        \n",
    "        for i in range(1,self.nn_layers+2):\n",
    "            self.a[i] = self.W[i-1].dot( self.h[i-1]) + self.b[i-1]\n",
    "            self.h[i] = self.sigmoid( self.a[i])\n",
    "\n",
    "        \n",
    "    def backward_prop(self, y):\n",
    "\n",
    "        self.delta[-1] = (y - self.h[-1])\n",
    "        \n",
    "        for i in range(self.nn_layers,0,-1):\n",
    "            self.delta[i] = np.dot( self.W[i].T, self.delta[i+1]) * self.sigmoid_der( self.a[i])\n",
    "\n",
    "            self.W[i] = -self.eta * np.dot( self.delta[i+1], self.h[i].T)\n",
    "            self.b[i] = -self.eta * self.delta[i+1]\n"
   ]
  },
  {
   "cell_type": "code",
   "execution_count": 82,
   "metadata": {
    "scrolled": false
   },
   "outputs": [
    {
     "name": "stdout",
     "output_type": "stream",
     "text": [
      "network: [10, 3, 3, 1]\n",
      "W [(3, 10), (3, 3), (1, 3)]\n",
      "b [(3, 40), (3, 40), (1, 40)]\n",
      "a [(10, 40), (3, 40), (3, 40), (1, 40)]\n",
      "h [(10, 40), (3, 40), (3, 40), (1, 40)]\n",
      "delta [(10, 40), (3, 40), (3, 40), (1, 40)]\n"
     ]
    },
    {
     "data": {
      "text/plain": [
       "<matplotlib.legend.Legend at 0x1f3128cbe80>"
      ]
     },
     "execution_count": 82,
     "metadata": {},
     "output_type": "execute_result"
    },
    {
     "data": {
      "image/png": "[encoded data removed]",
      "text/plain": [
       "<matplotlib.figure.Figure at 0x1f312808be0>"
      ]
     },
     "metadata": {},
     "output_type": "display_data"
    }
   ],
   "source": [
    "no_runs = 30\n",
    "neunet = NeuNet(nn_inputs = 10, nn_layers = 2, nn_hidden = [3,3], nn_outputs = 1, learning_rate = 0.001)\n",
    "\n",
    "train_err = []\n",
    "test_err = []\n",
    "\n",
    "for it in range(no_runs):\n",
    "    \n",
    "    train_X, train_y = shuffle(train_X, train_y, random_state = randint(0, 100))\n",
    "    \n",
    "    for i in range(0, len(train_X), batch_size):\n",
    "        if i+batch_size < len(train_X):\n",
    "            \n",
    "            if it%5 == 0:\n",
    "                train_err.append( neunet.get_error( train_y[i:(i+batch_size)]))\n",
    "                neunet.forward_prop(test_X)\n",
    "                test_err.append( neunet.get_error( test_y))\n",
    "#                 print(train_err[-1], test_err[-1])\n",
    "\n",
    "            neunet.forward_prop(train_X[i:(i+batch_size)])\n",
    "            neunet.backward_prop(train_y[i:(i+batch_size)])\n",
    "            \n",
    "plt.figure(figsize=(10,6))\n",
    "plt.plot(train_err, color = 'b')\n",
    "plt.plot(test_err, color = 'r')\n",
    "plt.xlabel('Iteration')\n",
    "plt.ylabel('Loss')\n",
    "plt.legend(handles=[mpatches.Patch(color='blue', label='train'), mpatches.Patch(color='red', label='test')])"
   ]
  },
  {
   "cell_type": "code",
   "execution_count": null,
   "metadata": {
    "collapsed": true
   },
   "outputs": [],
   "source": []
  },
  {
   "cell_type": "code",
   "execution_count": null,
   "metadata": {
    "collapsed": true
   },
   "outputs": [],
   "source": []
  }
 ],
 "metadata": {
  "kernelspec": {
   "display_name": "Python 3",
   "language": "python",
   "name": "python3"
  },
  "language_info": {
   "codemirror_mode": {
    "name": "ipython",
    "version": 3
   },
   "file_extension": ".py",
   "mimetype": "text/x-python",
   "name": "python",
   "nbconvert_exporter": "python",
   "pygments_lexer": "ipython3",
   "version": "3.5.4rc1"
  }
 },
 "nbformat": 4,
 "nbformat_minor": 2
}
