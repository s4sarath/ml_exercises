{
 "cells": [
  {
   "cell_type": "code",
   "execution_count": 3,
   "metadata": {
    "collapsed": true
   },
   "outputs": [],
   "source": [
    "import matplotlib.pyplot as plt \n",
    "import numpy as np \n",
    "import sklearn \n",
    "import math\n",
    "import sklearn.datasets \n",
    "from sklearn.utils import shuffle\n",
    "from random import randint\n",
    "from numpy import random\n",
    "import matplotlib \n",
    "%matplotlib inline\n",
    "\n",
    "def split_train_test(X, y):\n",
    "    datasize = X.shape[0]\n",
    "    X, y= shuffle(X, y, random_state = randint(0, 100))\n",
    "    train_X = X[:int(datasize*80/100)]\n",
    "    train_y = y[:int(datasize*80/100)]\n",
    "    test_X = X[int(datasize*80/100):]\n",
    "    test_y = y[int(datasize*80/100):]\n",
    "    return [train_X, train_y, test_X, test_y]\n"
   ]
  },
  {
   "cell_type": "code",
   "execution_count": 4,
   "metadata": {
    "collapsed": true
   },
   "outputs": [],
   "source": [
    "\n",
    "class NeuNet():\n",
    "    \n",
    "    def __init__(self, nn_inputs, nn_layers, nn_hidden, nn_outputs, learning_rate):\n",
    "        self.nn_inputs = nn_inputs\n",
    "        self.nn_layers = nn_layers\n",
    "        self.neurons_per_layer = [nn_inputs] + nn_hidden + [nn_outputs]\n",
    "        self.nn_outputs = nn_outputs\n",
    "        self.eta = learning_rate\n",
    "        \n",
    "        self.W=[]\n",
    "        self.b=[]\n",
    "        self.a=[]\n",
    "        self.h=[]\n",
    "        self.delta=[]   \n",
    "        self.yhat=[]\n",
    "        \n",
    "        for i in range(self.nn_layers+1):\n",
    "            self.W.append(np.random.normal(0,1,(self.neurons_per_layer[i+1], self.neurons_per_layer[i])))\n",
    "            self.b.append(np.random.normal(0,1,(self.neurons_per_layer[i+1],1)))\n",
    "            self.a.append(np.zeros((self.neurons_per_layer[i],1)))\n",
    "            self.h.append(np.zeros((self.neurons_per_layer[i],1)))\n",
    "            self.delta.append(np.zeros((self.neurons_per_layer[i],1)))\n",
    "            \n",
    "        self.a.append(np.zeros((self.neurons_per_layer[nn_layers+1],1)))\n",
    "        self.h.append(np.zeros((self.neurons_per_layer[nn_layers+1],1)))\n",
    "        self.delta.append(np.zeros((self.neurons_per_layer[nn_layers+1],1)))\n",
    "                  \n",
    "        print(\"network:\",self.neurons_per_layer)\n",
    "        print(\"W\", [x.shape for x in self.W])\n",
    "        print(\"b\", [x.shape for x in self.b])\n",
    "        print(\"a\", [x.shape for x in self.a])\n",
    "        print(\"h\", [x.shape for x in self.h])\n",
    "        print(\"delta\", [x.shape for x in self.delta])\n",
    "    \n",
    "\n",
    "    def sigmoid(self, x): return 1/(1 + np.exp(-x))\n",
    "    def sigmoid_der(self, x): return np.exp(-x)/(1 + np.exp(-x))**2\n",
    "    \n",
    "    def get_error(self, y):\n",
    "        return np.sum(( yi - yihat) **2 for yi, yihat in zip( y, self.yhat))\n",
    "    \n",
    "    \n",
    "    def forward_prop(self, data_X):\n",
    "        \n",
    "        self.yhat = np.empty([len(data_X),1])\n",
    "        \n",
    "        for j, X in enumerate( data_X):\n",
    "            X.shape=(len(X),1)\n",
    "            self.a[0] = X\n",
    "            self.h[0] = X\n",
    "            \n",
    "            for i in range(1,self.nn_layers+2):\n",
    "                self.a[i] = self.W[i-1].dot( self.h[i-1]) + self.b[i-1]\n",
    "                self.h[i] = self.sigmoid( self.a[i])\n",
    "            \n",
    "            self.yhat[j] =  self.h[-1]\n",
    "            \n",
    "        \n",
    "    def backward_prop(self, data_y):\n",
    "        \n",
    "        for k, y in enumerate( data_y):\n",
    "            self.delta[-1] = np.array([y - self.yhat[k]])\n",
    "    \n",
    "            for i in range(self.nn_layers,0,-1):\n",
    "                self.delta[i] = np.dot( self.W[i].T, self.delta[i+1]) * self.sigmoid_der( self.a[i])\n",
    "\n",
    "                for j, delta in enumerate(self.delta[i+1]):\n",
    "                    self.W[i][j] -= self.eta * delta * self.h[i][j]\n",
    "                self.b[i] -= self.eta * self.delta[i+1]\n"
   ]
  },
  {
   "cell_type": "code",
   "execution_count": 5,
   "metadata": {
    "scrolled": false
   },
   "outputs": [
    {
     "name": "stdout",
     "output_type": "stream",
     "text": [
      "network: [10, 5, 2, 1]\n",
      "W [(5, 10), (2, 5), (1, 2)]\n",
      "b [(5, 1), (2, 1), (1, 1)]\n",
      "a [(10, 1), (5, 1), (2, 1), (1, 1)]\n",
      "h [(10, 1), (5, 1), (2, 1), (1, 1)]\n",
      "delta [(10, 1), (5, 1), (2, 1), (1, 1)]\n",
      "datasets: (442, 10) (442,)\n",
      "[ 32.92128738]\n",
      "[ 147.06119894]\n",
      "[ 148.83896701]\n",
      "[ 145.87145893]\n",
      "[ 146.74810027]\n",
      "[ 145.87145893]\n",
      "[ 151.93981037]\n",
      "[ 148.44106715]\n",
      "[ 149.40790559]\n",
      "[ 148.44106715]\n"
     ]
    },
    {
     "data": {
      "text/plain": [
       "<matplotlib.text.Text at 0x1da621da748>"
      ]
     },
     "execution_count": 5,
     "metadata": {},
     "output_type": "execute_result"
    },
    {
     "data": {
      "image/png": "[encoded data removed]",
      "text/plain": [
       "<matplotlib.figure.Figure at 0x1da621a24a8>"
      ]
     },
     "metadata": {},
     "output_type": "display_data"
    }
   ],
   "source": [
    "no_runs = 10\n",
    "neunet = NeuNet(nn_inputs = 10, nn_layers = 2, nn_hidden = [5,2], nn_outputs = 1, learning_rate = 1)\n",
    "\n",
    "def normalize(X):\n",
    "    m = np.amin(X, axis=0)\n",
    "    M = np.amax(X, axis=0)\n",
    "    return np.array([(x-m)/(M-m) for x in X])\n",
    "\n",
    "dataset = sklearn.datasets.load_diabetes()\n",
    "_dataset_X = dataset['data']\n",
    "_dataset_y = dataset['target']\n",
    "dataset_X = np.array(_dataset_X)\n",
    "dataset_y = np.array(_dataset_y)\n",
    "    \n",
    "print(\"datasets:\",dataset_X.shape, dataset_y.shape)\n",
    "\n",
    "dataset_y = normalize(dataset_y)\n",
    "train_err = []\n",
    "test_err = []\n",
    "\n",
    "for it in range(no_runs):\n",
    "    train_X, train_y, test_X, test_y = split_train_test(dataset_X, dataset_y)\n",
    "\n",
    "    neunet.forward_prop(train_X)\n",
    "    neunet.backward_prop(train_y)\n",
    "    \n",
    "    if it%1==0:\n",
    "        train_err.append(neunet.get_error(train_y))\n",
    "        print(train_err[-1])\n",
    "    \n",
    "\n",
    "plt.plot(train_err, color = 'b')\n",
    "# plt.plot(test_err, color = 'r')\n",
    "plt.xlabel('Iteration')\n",
    "plt.ylabel('Loss')"
   ]
  },
  {
   "cell_type": "code",
   "execution_count": null,
   "metadata": {
    "collapsed": true
   },
   "outputs": [],
   "source": []
  },
  {
   "cell_type": "code",
   "execution_count": null,
   "metadata": {
    "collapsed": true
   },
   "outputs": [],
   "source": []
  }
 ],
 "metadata": {
  "kernelspec": {
   "display_name": "Python 3",
   "language": "python",
   "name": "python3"
  },
  "language_info": {
   "codemirror_mode": {
    "name": "ipython",
    "version": 3
   },
   "file_extension": ".py",
   "mimetype": "text/x-python",
   "name": "python",
   "nbconvert_exporter": "python",
   "pygments_lexer": "ipython3",
   "version": "3.5.4rc1"
  }
 },
 "nbformat": 4,
 "nbformat_minor": 2
}
