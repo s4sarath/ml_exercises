{
 "cells": [
  {
   "cell_type": "code",
   "execution_count": 1,
   "metadata": {},
   "outputs": [
    {
     "name": "stdout",
     "output_type": "stream",
     "text": [
      "Extracting MNIST_data/train-images-idx3-ubyte.gz\n",
      "Extracting MNIST_data/train-labels-idx1-ubyte.gz\n",
      "Extracting MNIST_data/t10k-images-idx3-ubyte.gz\n",
      "Extracting MNIST_data/t10k-labels-idx1-ubyte.gz\n"
     ]
    }
   ],
   "source": [
    "from tensorflow.examples.tutorials.mnist import input_data\n",
    "import tensorflow as tf\n",
    "\n",
    "mnist = input_data.read_data_sets(\"MNIST_data/\", one_hot=True)\n",
    "\n",
    "img_size = 28 # Pixel width / height\n",
    "num_labels = 10\n",
    "iterations = 1001\n"
   ]
  },
  {
   "cell_type": "code",
   "execution_count": 2,
   "metadata": {
    "collapsed": true
   },
   "outputs": [],
   "source": [
    "\n",
    "# Placeholders\n",
    "x = tf.placeholder( tf.float32, shape=(None, img_size*img_size))\n",
    "y_ = tf.placeholder( tf.float32, shape=(None, num_labels))\n",
    "global_step = tf.Variable(0, trainable=False)\n",
    "\n",
    "# Weights & Biases\n",
    "W = tf.Variable( tf.zeros([img_size*img_size, num_labels]))\n",
    "b = tf.Variable( tf.zeros([num_labels]))\n",
    "\n",
    "# Layers ~softmax\n",
    "y = tf.matmul(x, W) + b\n",
    "\n",
    "# Loss\n",
    "# tf.reduce_mean(-tf.reduce_sum(y_ * tf.log(y), reduction_indices=[1]))\n",
    "cross_entropy = tf.reduce_mean(tf.nn.softmax_cross_entropy_with_logits(labels=y_, logits=y))\n",
    "\n",
    "# Training\n",
    "optimizer = tf.train.GradientDescentOptimizer(0.5).minimize(cross_entropy)\n",
    "\n",
    "# Accuracy\n",
    "prediction = tf.equal(tf.argmax(y, 1), tf.argmax(y_, 1))\n",
    "accuracy = tf.reduce_mean(tf.cast(prediction, tf.float32))\n",
    "\n"
   ]
  },
  {
   "cell_type": "code",
   "execution_count": 3,
   "metadata": {},
   "outputs": [
    {
     "name": "stdout",
     "output_type": "stream",
     "text": [
      "step:  0\n",
      "train accuracy:\t 0.09\n",
      "cross entropy:\t 2.30258\n",
      "step:  50\n",
      "train accuracy:\t 0.86\n",
      "cross entropy:\t 0.493621\n",
      "step:  100\n",
      "train accuracy:\t 0.88\n",
      "cross entropy:\t 0.378495\n",
      "step:  150\n",
      "train accuracy:\t 0.83\n",
      "cross entropy:\t 0.54293\n",
      "step:  200\n",
      "train accuracy:\t 0.9\n",
      "cross entropy:\t 0.281913\n",
      "step:  250\n",
      "train accuracy:\t 0.9\n",
      "cross entropy:\t 0.344478\n",
      "step:  300\n",
      "train accuracy:\t 0.94\n",
      "cross entropy:\t 0.211581\n",
      "step:  350\n",
      "train accuracy:\t 0.89\n",
      "cross entropy:\t 0.478394\n",
      "step:  400\n",
      "train accuracy:\t 0.88\n",
      "cross entropy:\t 0.396471\n",
      "step:  450\n",
      "train accuracy:\t 0.88\n",
      "cross entropy:\t 0.477164\n",
      "step:  500\n",
      "train accuracy:\t 0.89\n",
      "cross entropy:\t 0.307268\n",
      "step:  550\n",
      "train accuracy:\t 0.9\n",
      "cross entropy:\t 0.342915\n",
      "step:  600\n",
      "train accuracy:\t 0.89\n",
      "cross entropy:\t 0.310783\n",
      "step:  650\n",
      "train accuracy:\t 0.91\n",
      "cross entropy:\t 0.339094\n",
      "step:  700\n",
      "train accuracy:\t 0.89\n",
      "cross entropy:\t 0.350103\n",
      "step:  750\n",
      "train accuracy:\t 0.91\n",
      "cross entropy:\t 0.311806\n",
      "step:  800\n",
      "train accuracy:\t 0.91\n",
      "cross entropy:\t 0.408422\n",
      "step:  850\n",
      "train accuracy:\t 0.93\n",
      "cross entropy:\t 0.226097\n",
      "step:  900\n",
      "train accuracy:\t 0.92\n",
      "cross entropy:\t 0.236046\n",
      "step:  950\n",
      "train accuracy:\t 0.91\n",
      "cross entropy:\t 0.316988\n",
      "step:  1000\n",
      "train accuracy:\t 0.94\n",
      "cross entropy:\t 0.204277\n",
      "\n",
      "TEST accuracy: 0.9189\n"
     ]
    }
   ],
   "source": [
    "\n",
    "sess = tf.InteractiveSession()\n",
    "tf.global_variables_initializer().run()\n",
    "\n",
    "# Session\n",
    "for step in range(0,iterations):\n",
    "    batch_xs, batch_ys = mnist.train.next_batch(100)\n",
    "    _,c,a = sess.run([optimizer,cross_entropy,accuracy], feed_dict={x: batch_xs, y_: batch_ys})\n",
    "    if(step % 50 == 0):\n",
    "        print('step: ',step)\n",
    "        print('train accuracy:\\t', a)\n",
    "        print('cross entropy:\\t', c)\n",
    "\n",
    "# Test Data Accuracy\n",
    "print('\\nTEST accuracy:', sess.run(accuracy, feed_dict={x: mnist.test.images,y_: mnist.test.labels}))\n"
   ]
  },
  {
   "cell_type": "code",
   "execution_count": null,
   "metadata": {
    "collapsed": true
   },
   "outputs": [],
   "source": []
  },
  {
   "cell_type": "code",
   "execution_count": null,
   "metadata": {
    "collapsed": true
   },
   "outputs": [],
   "source": []
  }
 ],
 "metadata": {
  "kernelspec": {
   "display_name": "Python 3",
   "language": "python",
   "name": "python3"
  },
  "language_info": {
   "codemirror_mode": {
    "name": "ipython",
    "version": 3
   },
   "file_extension": ".py",
   "mimetype": "text/x-python",
   "name": "python",
   "nbconvert_exporter": "python",
   "pygments_lexer": "ipython3",
   "version": "3.5.2"
  }
 },
 "nbformat": 4,
 "nbformat_minor": 2
}
