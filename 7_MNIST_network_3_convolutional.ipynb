{
 "cells": [
  {
   "cell_type": "code",
   "execution_count": 1,
   "metadata": {},
   "outputs": [
    {
     "name": "stdout",
     "output_type": "stream",
     "text": [
      "Extracting MNIST_data/train-images-idx3-ubyte.gz\n",
      "Extracting MNIST_data/train-labels-idx1-ubyte.gz\n",
      "Extracting MNIST_data/t10k-images-idx3-ubyte.gz\n",
      "Extracting MNIST_data/t10k-labels-idx1-ubyte.gz\n"
     ]
    }
   ],
   "source": [
    "from tensorflow.examples.tutorials.mnist import input_data\n",
    "import tensorflow as tf\n",
    "\n",
    "mnist = input_data.read_data_sets(\"MNIST_data/\", one_hot=True)"
   ]
  },
  {
   "cell_type": "code",
   "execution_count": 2,
   "metadata": {
    "collapsed": true
   },
   "outputs": [],
   "source": [
    "img_size = 28 # Pixel width / height\n",
    "num_labels = 10\n",
    "\n",
    "def weight_variable(shape):\n",
    "    return tf.Variable(tf.truncated_normal(shape = shape, stddev = 0.1))\n",
    "\n",
    "def bias_variable(shape):\n",
    "    return tf.Variable(tf.constant(0.1, shape = shape))\n",
    "\n",
    "def conv2d(x, W):\n",
    "    return tf.nn.conv2d(x, W, strides=[1,1,1,1], padding='SAME')\n",
    "\n",
    "def max_pool_2x2(x):\n",
    "    return tf.nn.max_pool(x, ksize=[1,2,2,1], strides=[1,2,2,1], padding='SAME')"
   ]
  },
  {
   "cell_type": "code",
   "execution_count": 3,
   "metadata": {
    "collapsed": true
   },
   "outputs": [],
   "source": [
    "# Placeholders\n",
    "x = tf.placeholder( tf.float32, shape=(None, img_size*img_size), name=\"Images\")\n",
    "y_ = tf.placeholder( tf.float32, shape=(None, num_labels), name=\"Labels\")\n",
    "global_step = tf.Variable(0, trainable=False)\n",
    "\n",
    "# Layer 1\n",
    "x_image = tf.reshape(x,[-1,img_size,img_size,1]) # 28 x 28 x color_channel\n",
    "\n",
    "W_conv1 = weight_variable([5, 5, 1, 32])\n",
    "b_conv1 = bias_variable([32])\n",
    "\n",
    "y_conv1 = tf.nn.relu(conv2d(x_image, W_conv1) + b_conv1) # 14x14\n",
    "y_pool1 = max_pool_2x2(y_conv1)\n",
    "\n",
    "# Layer 2\n",
    "W_conv2 = weight_variable([5, 5, 32, 64])\n",
    "b_conv2 = bias_variable([64])\n",
    "\n",
    "y_conv2 = tf.nn.relu(conv2d(y_pool1, W_conv2) + b_conv2) # 7x7\n",
    "y_pool2 = max_pool_2x2(y_conv2)\n",
    "\n",
    "# Layer 3 dense\n",
    "W_fc1 = weight_variable([7*7*64, 1024]) #\n",
    "b_fc1 = bias_variable([1024])\n",
    "\n",
    "y_pool2_flat = tf.reshape(y_pool2, [-1, 7*7*64])\n",
    "y_fc1 = tf.nn.relu(tf.matmul(y_pool2_flat, W_fc1) + b_fc1)\n",
    "\n",
    "# Dropout\n",
    "keep_prob = tf.placeholder(tf.float32)\n",
    "y_fc1_drop = tf.nn.dropout(y_fc1, keep_prob)\n",
    "\n",
    "# Layer 4 softmax\n",
    "W_fc2 = weight_variable([1024, 10])\n",
    "b_fc2 = bias_variable([10])\n",
    "\n",
    "y_conv = tf.matmul(y_fc1_drop, W_fc2) + b_fc2\n"
   ]
  },
  {
   "cell_type": "code",
   "execution_count": 4,
   "metadata": {
    "collapsed": true
   },
   "outputs": [],
   "source": [
    "# Loss\n",
    "cross_entropy = tf.reduce_mean(tf.nn.softmax_cross_entropy_with_logits(labels=y_, logits=y_conv))\n",
    "\n",
    "# Training\n",
    "optimizer = tf.train.AdamOptimizer(1e-4).minimize(cross_entropy)\n",
    "\n",
    "# Accuracy\n",
    "prediction = tf.equal(tf.argmax(y_conv, 1), tf.argmax(y_, 1))\n",
    "accuracy = tf.reduce_mean(tf.cast(prediction, tf.float32))"
   ]
  },
  {
   "cell_type": "code",
   "execution_count": 5,
   "metadata": {},
   "outputs": [
    {
     "name": "stdout",
     "output_type": "stream",
     "text": [
      "step:  0\n",
      "train accuracy:\t 0.06\n",
      "step:  500\n",
      "train accuracy:\t 1.0\n",
      "step:  1000\n",
      "train accuracy:\t 0.96\n",
      "step:  1500\n",
      "train accuracy:\t 1.0\n",
      "step:  2000\n",
      "train accuracy:\t 0.96\n",
      "step:  2500\n",
      "train accuracy:\t 0.98\n",
      "step:  3000\n",
      "train accuracy:\t 1.0\n",
      "step:  3500\n",
      "train accuracy:\t 1.0\n",
      "step:  4000\n",
      "train accuracy:\t 0.98\n",
      "step:  4500\n",
      "train accuracy:\t 1.0\n",
      "step:  5000\n",
      "train accuracy:\t 1.0\n",
      "step:  5500\n",
      "train accuracy:\t 1.0\n",
      "step:  6000\n",
      "train accuracy:\t 1.0\n",
      "step:  6500\n",
      "train accuracy:\t 1.0\n",
      "step:  7000\n",
      "train accuracy:\t 1.0\n",
      "step:  7500\n",
      "train accuracy:\t 1.0\n",
      "step:  8000\n",
      "train accuracy:\t 1.0\n",
      "step:  8500\n",
      "train accuracy:\t 1.0\n",
      "step:  9000\n",
      "train accuracy:\t 1.0\n",
      "step:  9500\n",
      "train accuracy:\t 1.0\n",
      "step:  10000\n",
      "train accuracy:\t 1.0\n",
      "step:  10500\n",
      "train accuracy:\t 1.0\n",
      "step:  11000\n",
      "train accuracy:\t 1.0\n",
      "step:  11500\n",
      "train accuracy:\t 1.0\n",
      "step:  12000\n",
      "train accuracy:\t 1.0\n",
      "step:  12500\n",
      "train accuracy:\t 1.0\n",
      "step:  13000\n",
      "train accuracy:\t 1.0\n",
      "step:  13500\n",
      "train accuracy:\t 1.0\n",
      "step:  14000\n",
      "train accuracy:\t 1.0\n",
      "step:  14500\n",
      "train accuracy:\t 1.0\n",
      "step:  15000\n",
      "train accuracy:\t 1.0\n",
      "step:  15500\n",
      "train accuracy:\t 1.0\n",
      "step:  16000\n",
      "train accuracy:\t 1.0\n",
      "step:  16500\n",
      "train accuracy:\t 1.0\n",
      "step:  17000\n",
      "train accuracy:\t 1.0\n",
      "step:  17500\n",
      "train accuracy:\t 1.0\n",
      "step:  18000\n",
      "train accuracy:\t 1.0\n",
      "step:  18500\n",
      "train accuracy:\t 1.0\n",
      "step:  19000\n",
      "train accuracy:\t 1.0\n",
      "step:  19500\n",
      "train accuracy:\t 1.0\n",
      "step:  20000\n",
      "train accuracy:\t 1.0\n",
      "\n",
      "TEST accuracy: 0.9892\n"
     ]
    }
   ],
   "source": [
    "iterations = 20001\n",
    "\n",
    "with tf.Session() as sess:\n",
    "    sess.run(tf.global_variables_initializer())\n",
    "\n",
    "    for step in range(0,iterations):\n",
    "        batch_xs, batch_ys = mnist.train.next_batch(50)\n",
    "        optimizer.run( feed_dict={x: batch_xs, y_: batch_ys, keep_prob: 1.0 })\n",
    "        if(step % 500 == 0):\n",
    "            a = accuracy.eval( feed_dict={ x: batch_xs, y_: batch_ys, keep_prob: 1.0 })\n",
    "            print('step: ',step)\n",
    "            print('train accuracy:\\t', a)\n",
    "\n",
    "    # Test Data Accuracy\n",
    "    print('\\nTEST accuracy:', sess.run(accuracy, feed_dict={x: mnist.test.images,y_: mnist.test.labels, keep_prob: 1.0}))\n"
   ]
  },
  {
   "cell_type": "code",
   "execution_count": null,
   "metadata": {
    "collapsed": true
   },
   "outputs": [],
   "source": []
  }
 ],
 "metadata": {
  "kernelspec": {
   "display_name": "Python 3",
   "language": "python",
   "name": "python3"
  },
  "language_info": {
   "codemirror_mode": {
    "name": "ipython",
    "version": 3
   },
   "file_extension": ".py",
   "mimetype": "text/x-python",
   "name": "python",
   "nbconvert_exporter": "python",
   "pygments_lexer": "ipython3",
   "version": "3.5.2"
  }
 },
 "nbformat": 4,
 "nbformat_minor": 2
}
