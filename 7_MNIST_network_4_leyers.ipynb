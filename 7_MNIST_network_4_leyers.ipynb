{
 "cells": [
  {
   "cell_type": "code",
   "execution_count": 7,
   "metadata": {},
   "outputs": [
    {
     "name": "stdout",
     "output_type": "stream",
     "text": [
      "Tensorflow version 1.2.1\n",
      "Extracting MNIST_data/train-images-idx3-ubyte.gz\n",
      "Extracting MNIST_data/train-labels-idx1-ubyte.gz\n",
      "Extracting MNIST_data/t10k-images-idx3-ubyte.gz\n",
      "Extracting MNIST_data/t10k-labels-idx1-ubyte.gz\n"
     ]
    }
   ],
   "source": [
    "import numpy as np\n",
    "import tensorflow as tf\n",
    "from tensorflow.python.estimator import run_config as run_config_lib\n",
    "from tensorflow.python.platform import tf_logging as logging\n",
    "from tensorflow.examples.tutorials.mnist import input_data as input_data\n",
    "import math\n",
    "print(\"Tensorflow version \" + tf.__version__)\n",
    "logging.set_verbosity(logging.INFO)\n",
    "\n",
    "mnist = input_data.read_data_sets(\"MNIST_data/\", one_hot=False, reshape=True, validation_size=0)"
   ]
  },
  {
   "cell_type": "code",
   "execution_count": 15,
   "metadata": {},
   "outputs": [],
   "source": [
    "def conv_model_loss( Ylogits, Y_, mode):\n",
    "    if mode == tf.estimator.ModeKeys.TRAIN or mode == tf.estimator.ModeKeys.EVAL:\n",
    "        return tf.reduce_mean( tf.losses.softmax_cross_entropy( tf.one_hot( Y_,10), Ylogits)) * 100\n",
    "    return None\n",
    "\n",
    "def conv_model_train_op( loss, mode):\n",
    "    if mode == tf.estimator.ModeKeys.TRAIN:\n",
    "        return tf.contrib.layers.optimize_loss( loss, tf.train.get_global_step( ), \n",
    "                                               learning_rate=0.003, \n",
    "                                               optimizer=\"Adam\",\n",
    "                                               learning_rate_decay_fn = lambda lr, step: 0.0001 + tf.train.exponential_decay( lr, step, -2000, math.e))\n",
    "    return None\n",
    "\n",
    "def conv_model_eval_metrics( classes, Y_, mode):\n",
    "    if mode == tf.estimator.ModeKeys.TRAIN or mode == tf.estimator.ModeKeys.EVAL:\n",
    "        return {'accuracy': tf.metrics.accuracy( classes, Y_)}\n",
    "    return None\n",
    "    \n",
    "def conv_model( features, labels, mode):\n",
    "    X = tf.reshape( features, [-1, 28, 28, 1])\n",
    "    Y_ = labels\n",
    "    \n",
    "    biasInit = tf.constant_initializer( 0.1, dtype=tf.float32)\n",
    "    Y1 = tf.layers.conv2d( X,  filters=6,  kernel_size=[6, 6], padding=\"same\", activation=tf.nn.relu, bias_initializer=biasInit)\n",
    "    Y2 = tf.layers.conv2d( Y1, filters=12, kernel_size=[5, 5], padding=\"same\", strides=2, activation=tf.nn.relu, bias_initializer=biasInit)\n",
    "    Y3 = tf.layers.conv2d( Y2, filters=24, kernel_size=[4, 4], padding=\"same\", strides=2, activation=tf.nn.relu, bias_initializer=biasInit)\n",
    "    \n",
    "    Y4 = tf.reshape( Y3, [-1, 24*7*7])\n",
    "    Y5 = tf.layers.dense( Y4, 200, activation=tf.nn.relu, bias_initializer=biasInit)\n",
    "    Y5d = tf.layers.dropout( Y5, rate=0.25, training=mode==tf.estimator.ModeKeys.TRAIN)\n",
    "    Ylogits = tf.layers.dense( Y5d, 10)\n",
    "    \n",
    "    predict = tf.nn.softmax( Ylogits)\n",
    "    classes = tf.cast( tf.argmax( predict, 1), tf.uint8)\n",
    "\n",
    "    loss = conv_model_loss( Ylogits, Y_, mode)\n",
    "    train_op = conv_model_train_op( loss, mode)\n",
    "    eval_metrics = conv_model_eval_metrics( classes, Y_, mode)\n",
    "\n",
    "    return tf.estimator.EstimatorSpec( \n",
    "        mode=mode,\n",
    "        predictions={\"predictions\": predict, \"classes\": classes},\n",
    "        loss=loss,\n",
    "        train_op=train_op,\n",
    "        eval_metric_ops=eval_metrics\n",
    "    )"
   ]
  },
  {
   "cell_type": "code",
   "execution_count": 13,
   "metadata": {},
   "outputs": [
    {
     "name": "stdout",
     "output_type": "stream",
     "text": [
      "INFO:tensorflow:Using config: {'_keep_checkpoint_every_n_hours': 10000, '_save_summary_steps': 100, '_tf_random_seed': 1, '_save_checkpoints_steps': None, '_model_dir': 'checkpoints', '_save_checkpoints_secs': 600, '_session_config': None, '_keep_checkpoint_max': 5}\n"
     ]
    }
   ],
   "source": [
    "class CustomRunConfig(run_config_lib.RunConfig):\n",
    "    @property\n",
    "    def save_checkpoints_secs(self): return None\n",
    "    @property\n",
    "    def save_checkpoints_steps(self): return 1000\n",
    "    @property\n",
    "    def tf_random_seed(self): return 0\n",
    "    \n",
    "estimator = tf.estimator.Estimator(model_fn=conv_model, model_dir=\"checkpoints\", config=CustomRunConfig())\n",
    "\n",
    "def train_data_input_fn():\n",
    "    return tf.train.shuffle_batch([tf.constant(mnist.train.images), tf.constant(mnist.train.labels)],\n",
    "                                  batch_size=100, capacity=1100, min_after_dequeue=1000, enqueue_many=True)\n",
    "\n",
    "def eval_data_input_fn():\n",
    "    return tf.constant(mnist.test.images), tf.constant(mnist.test.labels)\n",
    "\n",
    "def predict_input_fn():\n",
    "    return tf.constant(test_digits)"
   ]
  },
  {
   "cell_type": "code",
   "execution_count": 14,
   "metadata": {
    "scrolled": false
   },
   "outputs": [
    {
     "name": "stdout",
     "output_type": "stream",
     "text": [
      "INFO:tensorflow:Create CheckpointSaverHook.\n",
      "INFO:tensorflow:Saving checkpoints for 1 into checkpoints/model.ckpt.\n",
      "INFO:tensorflow:loss = 231.343, step = 1\n",
      "INFO:tensorflow:global_step/sec: 114.158\n",
      "INFO:tensorflow:loss = 31.2677, step = 101 (0.878 sec)\n",
      "INFO:tensorflow:global_step/sec: 119.032\n",
      "INFO:tensorflow:loss = 6.17775, step = 201 (0.840 sec)\n",
      "INFO:tensorflow:global_step/sec: 126.975\n",
      "INFO:tensorflow:loss = 11.3744, step = 301 (0.788 sec)\n",
      "INFO:tensorflow:global_step/sec: 121.902\n",
      "INFO:tensorflow:loss = 12.8321, step = 401 (0.820 sec)\n",
      "INFO:tensorflow:global_step/sec: 133.591\n",
      "INFO:tensorflow:loss = 4.52029, step = 501 (0.748 sec)\n",
      "INFO:tensorflow:global_step/sec: 116.593\n",
      "INFO:tensorflow:loss = 4.30247, step = 601 (0.859 sec)\n",
      "INFO:tensorflow:global_step/sec: 130.081\n",
      "INFO:tensorflow:loss = 5.76733, step = 701 (0.767 sec)\n",
      "INFO:tensorflow:global_step/sec: 142.588\n",
      "INFO:tensorflow:loss = 6.01962, step = 801 (0.703 sec)\n",
      "INFO:tensorflow:global_step/sec: 124.477\n",
      "INFO:tensorflow:loss = 4.77663, step = 901 (0.803 sec)\n",
      "INFO:tensorflow:Saving checkpoints for 1000 into checkpoints/model.ckpt.\n",
      "INFO:tensorflow:Loss for final step: 5.00498.\n",
      "INFO:tensorflow:Starting evaluation at 2017-08-12-17:48:56\n",
      "INFO:tensorflow:Restoring parameters from checkpoints/model.ckpt-1000\n",
      "INFO:tensorflow:Evaluation [1/1]\n",
      "INFO:tensorflow:Finished evaluation at 2017-08-12-17:48:56\n",
      "INFO:tensorflow:Saving dict for global step 1000: accuracy = 0.9847, global_step = 1000, loss = 4.63198\n"
     ]
    }
   ],
   "source": [
    "estimator.train( input_fn = train_data_input_fn, steps=1000)\n",
    "estimator.evaluate( input_fn = eval_data_input_fn, steps=1)\n",
    "digits = estimator.predict( input_fn = predict_input_fn)"
   ]
  },
  {
   "cell_type": "code",
   "execution_count": null,
   "metadata": {
    "collapsed": true
   },
   "outputs": [],
   "source": []
  }
 ],
 "metadata": {
  "kernelspec": {
   "display_name": "Python 3",
   "language": "python",
   "name": "python3"
  },
  "language_info": {
   "codemirror_mode": {
    "name": "ipython",
    "version": 3
   },
   "file_extension": ".py",
   "mimetype": "text/x-python",
   "name": "python",
   "nbconvert_exporter": "python",
   "pygments_lexer": "ipython3",
   "version": "3.5.2"
  }
 },
 "nbformat": 4,
 "nbformat_minor": 2
}
