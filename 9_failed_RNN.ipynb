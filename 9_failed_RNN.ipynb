{
 "cells": [
  {
   "cell_type": "code",
   "execution_count": 1,
   "metadata": {},
   "outputs": [
    {
     "name": "stdout",
     "output_type": "stream",
     "text": [
      "Loading file shakespeare/troilusandcressida.txt\n",
      "Loading file shakespeare/sonnets.txt\n",
      "Loading file shakespeare/tempest.txt\n",
      "Loading file shakespeare/coriolanus.txt\n",
      "Loading file shakespeare/loverscomplaint.txt\n",
      "Loading file shakespeare/various.txt\n",
      "Loading file shakespeare/kingrichardii.txt\n",
      "Loading file shakespeare/midsummersnightsdream.txt\n",
      "Loading file shakespeare/kinghenryv.txt\n",
      "Loading file shakespeare/3kinghenryvi.txt\n",
      "Loading file shakespeare/twelfthnight.txt\n",
      "Loading file shakespeare/kingrichardiii.txt\n",
      "Loading file shakespeare/romeoandjuliet.txt\n",
      "Loading file shakespeare/measureforemeasure.txt\n",
      "Loading file shakespeare/comedyoferrors.txt\n",
      "Loading file shakespeare/muchadoaboutnothing.txt\n",
      "Loading file shakespeare/titusandronicus.txt\n",
      "Loading file shakespeare/cymbeline.txt\n",
      "Loading file shakespeare/loveslabourslost.txt\n",
      "Loading file shakespeare/juliuscaesar.txt\n",
      "Loading file shakespeare/antonyandcleopatra.txt\n",
      "Loading file shakespeare/allswellthatendswell.txt\n",
      "Loading file shakespeare/2kinghenryvi.txt\n",
      "Loading file shakespeare/twogentlemenofverona.txt\n",
      "Loading file shakespeare/periclesprinceoftyre.txt\n",
      "Loading file shakespeare/kinghenryviii.txt\n",
      "Loading file shakespeare/kingjohn.txt\n",
      "Loading file shakespeare/rapeoflucrece.txt\n",
      "Loading file shakespeare/1kinghenryvi.txt\n",
      "Loading file shakespeare/hamlet.txt\n",
      "Loading file shakespeare/1kinghenryiv.txt\n",
      "Loading file shakespeare/merrywivesofwindsor.txt\n",
      "Loading file shakespeare/asyoulikeit.txt\n",
      "Loading file shakespeare/othello.txt\n",
      "Loading file shakespeare/timonofathens.txt\n",
      "Loading file shakespeare/winterstale.txt\n",
      "Loading file shakespeare/2kinghenryiv.txt\n",
      "Loading file shakespeare/macbeth.txt\n",
      "Loading file shakespeare/venusandadonis.txt\n",
      "Loading file shakespeare/kinglear.txt\n",
      "Loading file shakespeare/tamingoftheshrew.txt\n",
      "Loading file shakespeare/merchantofvenice.txt\n",
      "Training text size is 4.92MB with 119.78KB set aside for validation. There will be 10322 batches per epoch\n"
     ]
    }
   ],
   "source": [
    "import tensorflow as tf\n",
    "from tensorflow.contrib import layers\n",
    "from tensorflow.contrib import rnn\n",
    "import math\n",
    "import numpy as np\n",
    "import my_txtutils as txt\n",
    "\n",
    "tf.set_random_seed(0)\n",
    "SEQLEN = 10\n",
    "BATCHSIZE = 50\n",
    "\n",
    "shakedir = \"shakespeare/*.txt\"\n",
    "codetext, valitext, bookranges = txt.read_data_files(shakedir, validation=True)\n",
    "\n",
    "epoch_size = len(codetext) // (BATCHSIZE * SEQLEN)\n",
    "txt.print_data_stats(len(codetext), len(valitext), epoch_size)"
   ]
  },
  {
   "cell_type": "code",
   "execution_count": 2,
   "metadata": {},
   "outputs": [
    {
     "name": "stdout",
     "output_type": "stream",
     "text": [
      "5161137 122658 42\n",
      "35 43 {'start': 2412621, 'end': 2571178, 'name': 'antonyandcleopatra.txt'}\n"
     ]
    }
   ],
   "source": [
    "INTERNALSIZE = 512\n",
    "NLAYERS = 3\n",
    "\n",
    "ALPHASIZE = txt.ALPHASIZE\n",
    "\n",
    "print(len(codetext), len(valitext), len(bookranges))\n",
    "print(codetext[20], valitext[20], bookranges[20])"
   ]
  },
  {
   "cell_type": "code",
   "execution_count": 3,
   "metadata": {
    "collapsed": true,
    "scrolled": false
   },
   "outputs": [],
   "source": [
    "\n",
    "graph = tf.Graph()\n",
    "with graph.as_default():\n",
    "    \n",
    "    Xd = tf.placeholder(tf.uint8, [None, None])  # [ BATCHSIZE, SEQLEN ]\n",
    "    X = tf.one_hot(Xd, ALPHASIZE, 1.0, 0.0)      # [ BATCHSIZE, SEQLEN, ALPHASIZE ]\n",
    "    Yd_ = tf.placeholder(tf.uint8, [None, None]) # [ BATCHSIZE, SEQLEN ]\n",
    "    Y_ = tf.one_hot(Yd_, ALPHASIZE, 1.0, 0.0)    # [ BATCHSIZE, SEQLEN, ALPHASIZE ]\n",
    "\n",
    "    # input state\n",
    "    Hin = tf.placeholder(tf.float32, [None, INTERNALSIZE*NLAYERS])  # [ BATCHSIZE, INTERNALSIZE * NLAYERS]\n",
    "\n",
    "    cells = [tf.nn.rnn_cell.GRUCell(INTERNALSIZE) for _ in range(NLAYERS)]\n",
    "\n",
    "    mcell = tf.nn.rnn_cell.MultiRNNCell(cells, state_is_tuple=False)\n",
    "\n",
    "    Hr, H = tf.nn.dynamic_rnn(mcell, X, dtype=tf.float32, initial_state=Hin)\n",
    "\n",
    "    Hf = tf.reshape(Hr, [-1,INTERNALSIZE])\n",
    "\n",
    "    Ylogits = layers.linear(Hf, ALPHASIZE)     # [ BATCHSIZE x SEQLEN, ALPHASIZE ]\n",
    "\n",
    "    Y = tf.nn.softmax(Ylogits)        # [ BATCHSIZE x SEQLEN, ALPHASIZE ]\n",
    "    Yp = tf.argmax(Y, 1)                          # [ BATCHSIZE x SEQLEN ]\n",
    "    Yp = tf.reshape(Y, [BATCHSIZE, -1])  # [ BATCHSIZE, SEQLEN ]\n",
    "\n",
    "    loss = tf.nn.softmax_cross_entropy_with_logits(logits = Ylogits, labels = Y_)\n",
    "    optimizer = tf.train.AdamOptimizer(0.001).minimize(loss)\n",
    "    \n",
    "    # Add variable initializer.\n",
    "    init = tf.global_variables_initializer()"
   ]
  },
  {
   "cell_type": "code",
   "execution_count": 4,
   "metadata": {
    "scrolled": false
   },
   "outputs": [
    {
     "name": "stdout",
     "output_type": "stream",
     "text": [
      "Initialized\n",
      "(50, 10) hahahhaha (50, 10)\n"
     ]
    },
    {
     "ename": "InternalError",
     "evalue": "Blas GEMM launch failed : a.shape=(50, 610), b.shape=(610, 1024), m=50, n=1024, k=610\n\t [[Node: rnn/while/rnn/multi_rnn_cell/cell_0/cell_0/gru_cell/gates/gates/MatMul = MatMul[T=DT_FLOAT, transpose_a=false, transpose_b=false, _device=\"/job:localhost/replica:0/task:0/gpu:0\"](rnn/while/rnn/multi_rnn_cell/cell_0/cell_0/gru_cell/gates/gates/concat, rnn/while/rnn/multi_rnn_cell/cell_0/cell_0/gru_cell/gates/gates/MatMul/Enter)]]\n\t [[Node: rnn/while/Exit_2/_9 = _Recv[client_terminated=false, recv_device=\"/job:localhost/replica:0/task:0/cpu:0\", send_device=\"/job:localhost/replica:0/task:0/gpu:0\", send_device_incarnation=1, tensor_name=\"edge_2237_rnn/while/Exit_2\", tensor_type=DT_FLOAT, _device=\"/job:localhost/replica:0/task:0/cpu:0\"]()]]\n\nCaused by op 'rnn/while/rnn/multi_rnn_cell/cell_0/cell_0/gru_cell/gates/gates/MatMul', defined at:\n  File \"/usr/lib/python3.5/runpy.py\", line 184, in _run_module_as_main\n    \"__main__\", mod_spec)\n  File \"/usr/lib/python3.5/runpy.py\", line 85, in _run_code\n    exec(code, run_globals)\n  File \"/usr/local/lib/python3.5/dist-packages/ipykernel_launcher.py\", line 16, in <module>\n    app.launch_new_instance()\n  File \"/usr/local/lib/python3.5/dist-packages/traitlets/config/application.py\", line 658, in launch_instance\n    app.start()\n  File \"/usr/local/lib/python3.5/dist-packages/ipykernel/kernelapp.py\", line 477, in start\n    ioloop.IOLoop.instance().start()\n  File \"/usr/local/lib/python3.5/dist-packages/zmq/eventloop/ioloop.py\", line 177, in start\n    super(ZMQIOLoop, self).start()\n  File \"/usr/local/lib/python3.5/dist-packages/tornado/ioloop.py\", line 888, in start\n    handler_func(fd_obj, events)\n  File \"/usr/local/lib/python3.5/dist-packages/tornado/stack_context.py\", line 277, in null_wrapper\n    return fn(*args, **kwargs)\n  File \"/usr/local/lib/python3.5/dist-packages/zmq/eventloop/zmqstream.py\", line 440, in _handle_events\n    self._handle_recv()\n  File \"/usr/local/lib/python3.5/dist-packages/zmq/eventloop/zmqstream.py\", line 472, in _handle_recv\n    self._run_callback(callback, msg)\n  File \"/usr/local/lib/python3.5/dist-packages/zmq/eventloop/zmqstream.py\", line 414, in _run_callback\n    callback(*args, **kwargs)\n  File \"/usr/local/lib/python3.5/dist-packages/tornado/stack_context.py\", line 277, in null_wrapper\n    return fn(*args, **kwargs)\n  File \"/usr/local/lib/python3.5/dist-packages/ipykernel/kernelbase.py\", line 283, in dispatcher\n    return self.dispatch_shell(stream, msg)\n  File \"/usr/local/lib/python3.5/dist-packages/ipykernel/kernelbase.py\", line 235, in dispatch_shell\n    handler(stream, idents, msg)\n  File \"/usr/local/lib/python3.5/dist-packages/ipykernel/kernelbase.py\", line 399, in execute_request\n    user_expressions, allow_stdin)\n  File \"/usr/local/lib/python3.5/dist-packages/ipykernel/ipkernel.py\", line 196, in do_execute\n    res = shell.run_cell(code, store_history=store_history, silent=silent)\n  File \"/usr/local/lib/python3.5/dist-packages/ipykernel/zmqshell.py\", line 533, in run_cell\n    return super(ZMQInteractiveShell, self).run_cell(*args, **kwargs)\n  File \"/usr/local/lib/python3.5/dist-packages/IPython/core/interactiveshell.py\", line 2698, in run_cell\n    interactivity=interactivity, compiler=compiler, result=result)\n  File \"/usr/local/lib/python3.5/dist-packages/IPython/core/interactiveshell.py\", line 2802, in run_ast_nodes\n    if self.run_code(code, result):\n  File \"/usr/local/lib/python3.5/dist-packages/IPython/core/interactiveshell.py\", line 2862, in run_code\n    exec(code_obj, self.user_global_ns, self.user_ns)\n  File \"<ipython-input-3-c3a398d59f57>\", line 17, in <module>\n    Hr, H = tf.nn.dynamic_rnn(mcell, X, dtype=tf.float32, initial_state=Hin)\n  File \"/home/ape/.local/lib/python3.5/site-packages/tensorflow/python/ops/rnn.py\", line 574, in dynamic_rnn\n    dtype=dtype)\n  File \"/home/ape/.local/lib/python3.5/site-packages/tensorflow/python/ops/rnn.py\", line 737, in _dynamic_rnn_loop\n    swap_memory=swap_memory)\n  File \"/home/ape/.local/lib/python3.5/site-packages/tensorflow/python/ops/control_flow_ops.py\", line 2770, in while_loop\n    result = context.BuildLoop(cond, body, loop_vars, shape_invariants)\n  File \"/home/ape/.local/lib/python3.5/site-packages/tensorflow/python/ops/control_flow_ops.py\", line 2599, in BuildLoop\n    pred, body, original_loop_vars, loop_vars, shape_invariants)\n  File \"/home/ape/.local/lib/python3.5/site-packages/tensorflow/python/ops/control_flow_ops.py\", line 2549, in _BuildLoop\n    body_result = body(*packed_vars_for_body)\n  File \"/home/ape/.local/lib/python3.5/site-packages/tensorflow/python/ops/rnn.py\", line 722, in _time_step\n    (output, new_state) = call_cell()\n  File \"/home/ape/.local/lib/python3.5/site-packages/tensorflow/python/ops/rnn.py\", line 708, in <lambda>\n    call_cell = lambda: cell(input_t, state)\n  File \"/home/ape/.local/lib/python3.5/site-packages/tensorflow/python/ops/rnn_cell_impl.py\", line 180, in __call__\n    return super(RNNCell, self).__call__(inputs, state)\n  File \"/home/ape/.local/lib/python3.5/site-packages/tensorflow/python/layers/base.py\", line 441, in __call__\n    outputs = self.call(inputs, *args, **kwargs)\n  File \"/home/ape/.local/lib/python3.5/site-packages/tensorflow/python/ops/rnn_cell_impl.py\", line 916, in call\n    cur_inp, new_state = cell(cur_inp, cur_state)\n  File \"/home/ape/.local/lib/python3.5/site-packages/tensorflow/python/ops/rnn_cell_impl.py\", line 180, in __call__\n    return super(RNNCell, self).__call__(inputs, state)\n  File \"/home/ape/.local/lib/python3.5/site-packages/tensorflow/python/layers/base.py\", line 441, in __call__\n    outputs = self.call(inputs, *args, **kwargs)\n  File \"/home/ape/.local/lib/python3.5/site-packages/tensorflow/python/ops/rnn_cell_impl.py\", line 295, in call\n    self._kernel_initializer))\n  File \"/home/ape/.local/lib/python3.5/site-packages/tensorflow/python/ops/rnn_cell_impl.py\", line 1021, in _linear\n    res = math_ops.matmul(array_ops.concat(args, 1), weights)\n  File \"/home/ape/.local/lib/python3.5/site-packages/tensorflow/python/ops/math_ops.py\", line 1816, in matmul\n    a, b, transpose_a=transpose_a, transpose_b=transpose_b, name=name)\n  File \"/home/ape/.local/lib/python3.5/site-packages/tensorflow/python/ops/gen_math_ops.py\", line 1217, in _mat_mul\n    transpose_b=transpose_b, name=name)\n  File \"/home/ape/.local/lib/python3.5/site-packages/tensorflow/python/framework/op_def_library.py\", line 767, in apply_op\n    op_def=op_def)\n  File \"/home/ape/.local/lib/python3.5/site-packages/tensorflow/python/framework/ops.py\", line 2506, in create_op\n    original_op=self._default_original_op, op_def=op_def)\n  File \"/home/ape/.local/lib/python3.5/site-packages/tensorflow/python/framework/ops.py\", line 1269, in __init__\n    self._traceback = _extract_stack()\n\nInternalError (see above for traceback): Blas GEMM launch failed : a.shape=(50, 610), b.shape=(610, 1024), m=50, n=1024, k=610\n\t [[Node: rnn/while/rnn/multi_rnn_cell/cell_0/cell_0/gru_cell/gates/gates/MatMul = MatMul[T=DT_FLOAT, transpose_a=false, transpose_b=false, _device=\"/job:localhost/replica:0/task:0/gpu:0\"](rnn/while/rnn/multi_rnn_cell/cell_0/cell_0/gru_cell/gates/gates/concat, rnn/while/rnn/multi_rnn_cell/cell_0/cell_0/gru_cell/gates/gates/MatMul/Enter)]]\n\t [[Node: rnn/while/Exit_2/_9 = _Recv[client_terminated=false, recv_device=\"/job:localhost/replica:0/task:0/cpu:0\", send_device=\"/job:localhost/replica:0/task:0/gpu:0\", send_device_incarnation=1, tensor_name=\"edge_2237_rnn/while/Exit_2\", tensor_type=DT_FLOAT, _device=\"/job:localhost/replica:0/task:0/cpu:0\"]()]]\n",
     "output_type": "error",
     "traceback": [
      "\u001b[0;31m---------------------------------------------------------------------------\u001b[0m",
      "\u001b[0;31mInternalError\u001b[0m                             Traceback (most recent call last)",
      "\u001b[0;32m~/.local/lib/python3.5/site-packages/tensorflow/python/client/session.py\u001b[0m in \u001b[0;36m_do_call\u001b[0;34m(self, fn, *args)\u001b[0m\n\u001b[1;32m   1138\u001b[0m     \u001b[0;32mtry\u001b[0m\u001b[0;34m:\u001b[0m\u001b[0;34m\u001b[0m\u001b[0m\n\u001b[0;32m-> 1139\u001b[0;31m       \u001b[0;32mreturn\u001b[0m \u001b[0mfn\u001b[0m\u001b[0;34m(\u001b[0m\u001b[0;34m*\u001b[0m\u001b[0margs\u001b[0m\u001b[0;34m)\u001b[0m\u001b[0;34m\u001b[0m\u001b[0m\n\u001b[0m\u001b[1;32m   1140\u001b[0m     \u001b[0;32mexcept\u001b[0m \u001b[0merrors\u001b[0m\u001b[0;34m.\u001b[0m\u001b[0mOpError\u001b[0m \u001b[0;32mas\u001b[0m \u001b[0me\u001b[0m\u001b[0;34m:\u001b[0m\u001b[0;34m\u001b[0m\u001b[0m\n",
      "\u001b[0;32m~/.local/lib/python3.5/site-packages/tensorflow/python/client/session.py\u001b[0m in \u001b[0;36m_run_fn\u001b[0;34m(session, feed_dict, fetch_list, target_list, options, run_metadata)\u001b[0m\n\u001b[1;32m   1120\u001b[0m                                  \u001b[0mfeed_dict\u001b[0m\u001b[0;34m,\u001b[0m \u001b[0mfetch_list\u001b[0m\u001b[0;34m,\u001b[0m \u001b[0mtarget_list\u001b[0m\u001b[0;34m,\u001b[0m\u001b[0;34m\u001b[0m\u001b[0m\n\u001b[0;32m-> 1121\u001b[0;31m                                  status, run_metadata)\n\u001b[0m\u001b[1;32m   1122\u001b[0m \u001b[0;34m\u001b[0m\u001b[0m\n",
      "\u001b[0;32m/usr/lib/python3.5/contextlib.py\u001b[0m in \u001b[0;36m__exit__\u001b[0;34m(self, type, value, traceback)\u001b[0m\n\u001b[1;32m     65\u001b[0m             \u001b[0;32mtry\u001b[0m\u001b[0;34m:\u001b[0m\u001b[0;34m\u001b[0m\u001b[0m\n\u001b[0;32m---> 66\u001b[0;31m                 \u001b[0mnext\u001b[0m\u001b[0;34m(\u001b[0m\u001b[0mself\u001b[0m\u001b[0;34m.\u001b[0m\u001b[0mgen\u001b[0m\u001b[0;34m)\u001b[0m\u001b[0;34m\u001b[0m\u001b[0m\n\u001b[0m\u001b[1;32m     67\u001b[0m             \u001b[0;32mexcept\u001b[0m \u001b[0mStopIteration\u001b[0m\u001b[0;34m:\u001b[0m\u001b[0;34m\u001b[0m\u001b[0m\n",
      "\u001b[0;32m~/.local/lib/python3.5/site-packages/tensorflow/python/framework/errors_impl.py\u001b[0m in \u001b[0;36mraise_exception_on_not_ok_status\u001b[0;34m()\u001b[0m\n\u001b[1;32m    465\u001b[0m           \u001b[0mcompat\u001b[0m\u001b[0;34m.\u001b[0m\u001b[0mas_text\u001b[0m\u001b[0;34m(\u001b[0m\u001b[0mpywrap_tensorflow\u001b[0m\u001b[0;34m.\u001b[0m\u001b[0mTF_Message\u001b[0m\u001b[0;34m(\u001b[0m\u001b[0mstatus\u001b[0m\u001b[0;34m)\u001b[0m\u001b[0;34m)\u001b[0m\u001b[0;34m,\u001b[0m\u001b[0;34m\u001b[0m\u001b[0m\n\u001b[0;32m--> 466\u001b[0;31m           pywrap_tensorflow.TF_GetCode(status))\n\u001b[0m\u001b[1;32m    467\u001b[0m   \u001b[0;32mfinally\u001b[0m\u001b[0;34m:\u001b[0m\u001b[0;34m\u001b[0m\u001b[0m\n",
      "\u001b[0;31mInternalError\u001b[0m: Blas GEMM launch failed : a.shape=(50, 610), b.shape=(610, 1024), m=50, n=1024, k=610\n\t [[Node: rnn/while/rnn/multi_rnn_cell/cell_0/cell_0/gru_cell/gates/gates/MatMul = MatMul[T=DT_FLOAT, transpose_a=false, transpose_b=false, _device=\"/job:localhost/replica:0/task:0/gpu:0\"](rnn/while/rnn/multi_rnn_cell/cell_0/cell_0/gru_cell/gates/gates/concat, rnn/while/rnn/multi_rnn_cell/cell_0/cell_0/gru_cell/gates/gates/MatMul/Enter)]]\n\t [[Node: rnn/while/Exit_2/_9 = _Recv[client_terminated=false, recv_device=\"/job:localhost/replica:0/task:0/cpu:0\", send_device=\"/job:localhost/replica:0/task:0/gpu:0\", send_device_incarnation=1, tensor_name=\"edge_2237_rnn/while/Exit_2\", tensor_type=DT_FLOAT, _device=\"/job:localhost/replica:0/task:0/cpu:0\"]()]]",
      "\nDuring handling of the above exception, another exception occurred:\n",
      "\u001b[0;31mInternalError\u001b[0m                             Traceback (most recent call last)",
      "\u001b[0;32m<ipython-input-4-bd67423af55a>\u001b[0m in \u001b[0;36m<module>\u001b[0;34m()\u001b[0m\n\u001b[1;32m     17\u001b[0m         \u001b[0;31m# train on one minibatch\u001b[0m\u001b[0;34m\u001b[0m\u001b[0;34m\u001b[0m\u001b[0m\n\u001b[1;32m     18\u001b[0m         \u001b[0mfeed_dict\u001b[0m \u001b[0;34m=\u001b[0m \u001b[0;34m{\u001b[0m\u001b[0mXd\u001b[0m\u001b[0;34m:\u001b[0m \u001b[0mx\u001b[0m\u001b[0;34m,\u001b[0m \u001b[0mYd_\u001b[0m\u001b[0;34m:\u001b[0m \u001b[0my_\u001b[0m\u001b[0;34m,\u001b[0m \u001b[0mHin\u001b[0m\u001b[0;34m:\u001b[0m \u001b[0minH\u001b[0m\u001b[0;34m}\u001b[0m\u001b[0;34m\u001b[0m\u001b[0m\n\u001b[0;32m---> 19\u001b[0;31m         \u001b[0m_\u001b[0m\u001b[0;34m,\u001b[0m \u001b[0my\u001b[0m\u001b[0;34m,\u001b[0m \u001b[0moutH\u001b[0m \u001b[0;34m=\u001b[0m \u001b[0msess\u001b[0m\u001b[0;34m.\u001b[0m\u001b[0mrun\u001b[0m\u001b[0;34m(\u001b[0m\u001b[0;34m[\u001b[0m\u001b[0moptimizer\u001b[0m\u001b[0;34m,\u001b[0m \u001b[0mYp\u001b[0m\u001b[0;34m,\u001b[0m \u001b[0mH\u001b[0m\u001b[0;34m]\u001b[0m\u001b[0;34m,\u001b[0m \u001b[0mfeed_dict\u001b[0m\u001b[0;34m=\u001b[0m\u001b[0mfeed_dict\u001b[0m\u001b[0;34m)\u001b[0m\u001b[0;34m\u001b[0m\u001b[0m\n\u001b[0m\u001b[1;32m     20\u001b[0m         \u001b[0my\u001b[0m \u001b[0;34m=\u001b[0m \u001b[0msess\u001b[0m\u001b[0;34m.\u001b[0m\u001b[0mrun\u001b[0m\u001b[0;34m(\u001b[0m\u001b[0mYp\u001b[0m\u001b[0;34m,\u001b[0m \u001b[0mfeed_dict\u001b[0m\u001b[0;34m=\u001b[0m\u001b[0mfeed_dict\u001b[0m\u001b[0;34m)\u001b[0m\u001b[0;34m\u001b[0m\u001b[0m\n",
      "\u001b[0;32m~/.local/lib/python3.5/site-packages/tensorflow/python/client/session.py\u001b[0m in \u001b[0;36mrun\u001b[0;34m(self, fetches, feed_dict, options, run_metadata)\u001b[0m\n\u001b[1;32m    787\u001b[0m     \u001b[0;32mtry\u001b[0m\u001b[0;34m:\u001b[0m\u001b[0;34m\u001b[0m\u001b[0m\n\u001b[1;32m    788\u001b[0m       result = self._run(None, fetches, feed_dict, options_ptr,\n\u001b[0;32m--> 789\u001b[0;31m                          run_metadata_ptr)\n\u001b[0m\u001b[1;32m    790\u001b[0m       \u001b[0;32mif\u001b[0m \u001b[0mrun_metadata\u001b[0m\u001b[0;34m:\u001b[0m\u001b[0;34m\u001b[0m\u001b[0m\n\u001b[1;32m    791\u001b[0m         \u001b[0mproto_data\u001b[0m \u001b[0;34m=\u001b[0m \u001b[0mtf_session\u001b[0m\u001b[0;34m.\u001b[0m\u001b[0mTF_GetBuffer\u001b[0m\u001b[0;34m(\u001b[0m\u001b[0mrun_metadata_ptr\u001b[0m\u001b[0;34m)\u001b[0m\u001b[0;34m\u001b[0m\u001b[0m\n",
      "\u001b[0;32m~/.local/lib/python3.5/site-packages/tensorflow/python/client/session.py\u001b[0m in \u001b[0;36m_run\u001b[0;34m(self, handle, fetches, feed_dict, options, run_metadata)\u001b[0m\n\u001b[1;32m    995\u001b[0m     \u001b[0;32mif\u001b[0m \u001b[0mfinal_fetches\u001b[0m \u001b[0;32mor\u001b[0m \u001b[0mfinal_targets\u001b[0m\u001b[0;34m:\u001b[0m\u001b[0;34m\u001b[0m\u001b[0m\n\u001b[1;32m    996\u001b[0m       results = self._do_run(handle, final_targets, final_fetches,\n\u001b[0;32m--> 997\u001b[0;31m                              feed_dict_string, options, run_metadata)\n\u001b[0m\u001b[1;32m    998\u001b[0m     \u001b[0;32melse\u001b[0m\u001b[0;34m:\u001b[0m\u001b[0;34m\u001b[0m\u001b[0m\n\u001b[1;32m    999\u001b[0m       \u001b[0mresults\u001b[0m \u001b[0;34m=\u001b[0m \u001b[0;34m[\u001b[0m\u001b[0;34m]\u001b[0m\u001b[0;34m\u001b[0m\u001b[0m\n",
      "\u001b[0;32m~/.local/lib/python3.5/site-packages/tensorflow/python/client/session.py\u001b[0m in \u001b[0;36m_do_run\u001b[0;34m(self, handle, target_list, fetch_list, feed_dict, options, run_metadata)\u001b[0m\n\u001b[1;32m   1130\u001b[0m     \u001b[0;32mif\u001b[0m \u001b[0mhandle\u001b[0m \u001b[0;32mis\u001b[0m \u001b[0;32mNone\u001b[0m\u001b[0;34m:\u001b[0m\u001b[0;34m\u001b[0m\u001b[0m\n\u001b[1;32m   1131\u001b[0m       return self._do_call(_run_fn, self._session, feed_dict, fetch_list,\n\u001b[0;32m-> 1132\u001b[0;31m                            target_list, options, run_metadata)\n\u001b[0m\u001b[1;32m   1133\u001b[0m     \u001b[0;32melse\u001b[0m\u001b[0;34m:\u001b[0m\u001b[0;34m\u001b[0m\u001b[0m\n\u001b[1;32m   1134\u001b[0m       return self._do_call(_prun_fn, self._session, handle, feed_dict,\n",
      "\u001b[0;32m~/.local/lib/python3.5/site-packages/tensorflow/python/client/session.py\u001b[0m in \u001b[0;36m_do_call\u001b[0;34m(self, fn, *args)\u001b[0m\n\u001b[1;32m   1150\u001b[0m         \u001b[0;32mexcept\u001b[0m \u001b[0mKeyError\u001b[0m\u001b[0;34m:\u001b[0m\u001b[0;34m\u001b[0m\u001b[0m\n\u001b[1;32m   1151\u001b[0m           \u001b[0;32mpass\u001b[0m\u001b[0;34m\u001b[0m\u001b[0m\n\u001b[0;32m-> 1152\u001b[0;31m       \u001b[0;32mraise\u001b[0m \u001b[0mtype\u001b[0m\u001b[0;34m(\u001b[0m\u001b[0me\u001b[0m\u001b[0;34m)\u001b[0m\u001b[0;34m(\u001b[0m\u001b[0mnode_def\u001b[0m\u001b[0;34m,\u001b[0m \u001b[0mop\u001b[0m\u001b[0;34m,\u001b[0m \u001b[0mmessage\u001b[0m\u001b[0;34m)\u001b[0m\u001b[0;34m\u001b[0m\u001b[0m\n\u001b[0m\u001b[1;32m   1153\u001b[0m \u001b[0;34m\u001b[0m\u001b[0m\n\u001b[1;32m   1154\u001b[0m   \u001b[0;32mdef\u001b[0m \u001b[0m_extend_graph\u001b[0m\u001b[0;34m(\u001b[0m\u001b[0mself\u001b[0m\u001b[0;34m)\u001b[0m\u001b[0;34m:\u001b[0m\u001b[0;34m\u001b[0m\u001b[0m\n",
      "\u001b[0;31mInternalError\u001b[0m: Blas GEMM launch failed : a.shape=(50, 610), b.shape=(610, 1024), m=50, n=1024, k=610\n\t [[Node: rnn/while/rnn/multi_rnn_cell/cell_0/cell_0/gru_cell/gates/gates/MatMul = MatMul[T=DT_FLOAT, transpose_a=false, transpose_b=false, _device=\"/job:localhost/replica:0/task:0/gpu:0\"](rnn/while/rnn/multi_rnn_cell/cell_0/cell_0/gru_cell/gates/gates/concat, rnn/while/rnn/multi_rnn_cell/cell_0/cell_0/gru_cell/gates/gates/MatMul/Enter)]]\n\t [[Node: rnn/while/Exit_2/_9 = _Recv[client_terminated=false, recv_device=\"/job:localhost/replica:0/task:0/cpu:0\", send_device=\"/job:localhost/replica:0/task:0/gpu:0\", send_device_incarnation=1, tensor_name=\"edge_2237_rnn/while/Exit_2\", tensor_type=DT_FLOAT, _device=\"/job:localhost/replica:0/task:0/cpu:0\"]()]]\n\nCaused by op 'rnn/while/rnn/multi_rnn_cell/cell_0/cell_0/gru_cell/gates/gates/MatMul', defined at:\n  File \"/usr/lib/python3.5/runpy.py\", line 184, in _run_module_as_main\n    \"__main__\", mod_spec)\n  File \"/usr/lib/python3.5/runpy.py\", line 85, in _run_code\n    exec(code, run_globals)\n  File \"/usr/local/lib/python3.5/dist-packages/ipykernel_launcher.py\", line 16, in <module>\n    app.launch_new_instance()\n  File \"/usr/local/lib/python3.5/dist-packages/traitlets/config/application.py\", line 658, in launch_instance\n    app.start()\n  File \"/usr/local/lib/python3.5/dist-packages/ipykernel/kernelapp.py\", line 477, in start\n    ioloop.IOLoop.instance().start()\n  File \"/usr/local/lib/python3.5/dist-packages/zmq/eventloop/ioloop.py\", line 177, in start\n    super(ZMQIOLoop, self).start()\n  File \"/usr/local/lib/python3.5/dist-packages/tornado/ioloop.py\", line 888, in start\n    handler_func(fd_obj, events)\n  File \"/usr/local/lib/python3.5/dist-packages/tornado/stack_context.py\", line 277, in null_wrapper\n    return fn(*args, **kwargs)\n  File \"/usr/local/lib/python3.5/dist-packages/zmq/eventloop/zmqstream.py\", line 440, in _handle_events\n    self._handle_recv()\n  File \"/usr/local/lib/python3.5/dist-packages/zmq/eventloop/zmqstream.py\", line 472, in _handle_recv\n    self._run_callback(callback, msg)\n  File \"/usr/local/lib/python3.5/dist-packages/zmq/eventloop/zmqstream.py\", line 414, in _run_callback\n    callback(*args, **kwargs)\n  File \"/usr/local/lib/python3.5/dist-packages/tornado/stack_context.py\", line 277, in null_wrapper\n    return fn(*args, **kwargs)\n  File \"/usr/local/lib/python3.5/dist-packages/ipykernel/kernelbase.py\", line 283, in dispatcher\n    return self.dispatch_shell(stream, msg)\n  File \"/usr/local/lib/python3.5/dist-packages/ipykernel/kernelbase.py\", line 235, in dispatch_shell\n    handler(stream, idents, msg)\n  File \"/usr/local/lib/python3.5/dist-packages/ipykernel/kernelbase.py\", line 399, in execute_request\n    user_expressions, allow_stdin)\n  File \"/usr/local/lib/python3.5/dist-packages/ipykernel/ipkernel.py\", line 196, in do_execute\n    res = shell.run_cell(code, store_history=store_history, silent=silent)\n  File \"/usr/local/lib/python3.5/dist-packages/ipykernel/zmqshell.py\", line 533, in run_cell\n    return super(ZMQInteractiveShell, self).run_cell(*args, **kwargs)\n  File \"/usr/local/lib/python3.5/dist-packages/IPython/core/interactiveshell.py\", line 2698, in run_cell\n    interactivity=interactivity, compiler=compiler, result=result)\n  File \"/usr/local/lib/python3.5/dist-packages/IPython/core/interactiveshell.py\", line 2802, in run_ast_nodes\n    if self.run_code(code, result):\n  File \"/usr/local/lib/python3.5/dist-packages/IPython/core/interactiveshell.py\", line 2862, in run_code\n    exec(code_obj, self.user_global_ns, self.user_ns)\n  File \"<ipython-input-3-c3a398d59f57>\", line 17, in <module>\n    Hr, H = tf.nn.dynamic_rnn(mcell, X, dtype=tf.float32, initial_state=Hin)\n  File \"/home/ape/.local/lib/python3.5/site-packages/tensorflow/python/ops/rnn.py\", line 574, in dynamic_rnn\n    dtype=dtype)\n  File \"/home/ape/.local/lib/python3.5/site-packages/tensorflow/python/ops/rnn.py\", line 737, in _dynamic_rnn_loop\n    swap_memory=swap_memory)\n  File \"/home/ape/.local/lib/python3.5/site-packages/tensorflow/python/ops/control_flow_ops.py\", line 2770, in while_loop\n    result = context.BuildLoop(cond, body, loop_vars, shape_invariants)\n  File \"/home/ape/.local/lib/python3.5/site-packages/tensorflow/python/ops/control_flow_ops.py\", line 2599, in BuildLoop\n    pred, body, original_loop_vars, loop_vars, shape_invariants)\n  File \"/home/ape/.local/lib/python3.5/site-packages/tensorflow/python/ops/control_flow_ops.py\", line 2549, in _BuildLoop\n    body_result = body(*packed_vars_for_body)\n  File \"/home/ape/.local/lib/python3.5/site-packages/tensorflow/python/ops/rnn.py\", line 722, in _time_step\n    (output, new_state) = call_cell()\n  File \"/home/ape/.local/lib/python3.5/site-packages/tensorflow/python/ops/rnn.py\", line 708, in <lambda>\n    call_cell = lambda: cell(input_t, state)\n  File \"/home/ape/.local/lib/python3.5/site-packages/tensorflow/python/ops/rnn_cell_impl.py\", line 180, in __call__\n    return super(RNNCell, self).__call__(inputs, state)\n  File \"/home/ape/.local/lib/python3.5/site-packages/tensorflow/python/layers/base.py\", line 441, in __call__\n    outputs = self.call(inputs, *args, **kwargs)\n  File \"/home/ape/.local/lib/python3.5/site-packages/tensorflow/python/ops/rnn_cell_impl.py\", line 916, in call\n    cur_inp, new_state = cell(cur_inp, cur_state)\n  File \"/home/ape/.local/lib/python3.5/site-packages/tensorflow/python/ops/rnn_cell_impl.py\", line 180, in __call__\n    return super(RNNCell, self).__call__(inputs, state)\n  File \"/home/ape/.local/lib/python3.5/site-packages/tensorflow/python/layers/base.py\", line 441, in __call__\n    outputs = self.call(inputs, *args, **kwargs)\n  File \"/home/ape/.local/lib/python3.5/site-packages/tensorflow/python/ops/rnn_cell_impl.py\", line 295, in call\n    self._kernel_initializer))\n  File \"/home/ape/.local/lib/python3.5/site-packages/tensorflow/python/ops/rnn_cell_impl.py\", line 1021, in _linear\n    res = math_ops.matmul(array_ops.concat(args, 1), weights)\n  File \"/home/ape/.local/lib/python3.5/site-packages/tensorflow/python/ops/math_ops.py\", line 1816, in matmul\n    a, b, transpose_a=transpose_a, transpose_b=transpose_b, name=name)\n  File \"/home/ape/.local/lib/python3.5/site-packages/tensorflow/python/ops/gen_math_ops.py\", line 1217, in _mat_mul\n    transpose_b=transpose_b, name=name)\n  File \"/home/ape/.local/lib/python3.5/site-packages/tensorflow/python/framework/op_def_library.py\", line 767, in apply_op\n    op_def=op_def)\n  File \"/home/ape/.local/lib/python3.5/site-packages/tensorflow/python/framework/ops.py\", line 2506, in create_op\n    original_op=self._default_original_op, op_def=op_def)\n  File \"/home/ape/.local/lib/python3.5/site-packages/tensorflow/python/framework/ops.py\", line 1269, in __init__\n    self._traceback = _extract_stack()\n\nInternalError (see above for traceback): Blas GEMM launch failed : a.shape=(50, 610), b.shape=(610, 1024), m=50, n=1024, k=610\n\t [[Node: rnn/while/rnn/multi_rnn_cell/cell_0/cell_0/gru_cell/gates/gates/MatMul = MatMul[T=DT_FLOAT, transpose_a=false, transpose_b=false, _device=\"/job:localhost/replica:0/task:0/gpu:0\"](rnn/while/rnn/multi_rnn_cell/cell_0/cell_0/gru_cell/gates/gates/concat, rnn/while/rnn/multi_rnn_cell/cell_0/cell_0/gru_cell/gates/gates/MatMul/Enter)]]\n\t [[Node: rnn/while/Exit_2/_9 = _Recv[client_terminated=false, recv_device=\"/job:localhost/replica:0/task:0/cpu:0\", send_device=\"/job:localhost/replica:0/task:0/gpu:0\", send_device_incarnation=1, tensor_name=\"edge_2237_rnn/while/Exit_2\", tensor_type=DT_FLOAT, _device=\"/job:localhost/replica:0/task:0/cpu:0\"]()]]\n"
     ]
    }
   ],
   "source": [
    "# init = tf.global_variables_initializer()\n",
    "config = tf.ConfigProto()\n",
    "config.gpu_options.allow_growth=True\n",
    "\n",
    "# gpu_options = tf.GPUOptions(per_process_gpu_memory_fraction=0.3)\n",
    "# sess = tf.Session(config=tf.ConfigProto(gpu_options = gpu_options,\n",
    "#   allow_soft_placement=True, log_device_placement=True))\n",
    "\n",
    "with tf.Session(graph=graph, config=config) as sess:\n",
    "    # We must initialize all variables before we use them.\n",
    "    init.run()\n",
    "    print('Initialized')\n",
    "\n",
    "    for  x, y_, epoch  in txt.rnn_minibatch_sequencer(codetext, BATCHSIZE, SEQLEN, nb_epochs=10):\n",
    "        print(x.shape,\"hahahhaha\",y_.shape)\n",
    "        inH = np.zeros([BATCHSIZE, INTERNALSIZE*NLAYERS])\n",
    "        # train on one minibatch\n",
    "        feed_dict = {Xd: x, Yd_: y_, Hin: inH}\n",
    "        _, y, outH = sess.run([optimizer, Yp, H], feed_dict=feed_dict)\n",
    "        y = sess.run(Yp, feed_dict=feed_dict)\n"
   ]
  },
  {
   "cell_type": "code",
   "execution_count": null,
   "metadata": {
    "collapsed": true
   },
   "outputs": [],
   "source": []
  }
 ],
 "metadata": {
  "kernelspec": {
   "display_name": "Python 3",
   "language": "python",
   "name": "python3"
  },
  "language_info": {
   "codemirror_mode": {
    "name": "ipython",
    "version": 3
   },
   "file_extension": ".py",
   "mimetype": "text/x-python",
   "name": "python",
   "nbconvert_exporter": "python",
   "pygments_lexer": "ipython3",
   "version": "3.5.2"
  }
 },
 "nbformat": 4,
 "nbformat_minor": 2
}
